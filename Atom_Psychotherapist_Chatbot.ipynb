{
 "cells": [
  {
   "cell_type": "code",
   "execution_count": 1,
   "id": "f8c8ecd0",
   "metadata": {},
   "outputs": [],
   "source": [
    "import re\n",
    "import random\n"
   ]
  },
  {
   "cell_type": "code",
   "execution_count": 2,
   "id": "5ade05e7",
   "metadata": {},
   "outputs": [],
   "source": [
    "response = {\n",
    "    \"hello\": [\"Hello how can I help you\"],\n",
    "    \"i feel (.*)\": [\"Why do you feel {}?\", \"How long have you been feeling {}?\"],\n",
    "    \"i am (.*)\": [\"Why do you say you're {}?\", \"How long have you been {}?\"],\n",
    "    \"i (.*) you\": [\"Why do you {} yourself?\", \"What makes you think you {} me?\"],\n",
    "    \"i (.*) myself\": [\"Why do you {} yourself?\", \"What makes you think you {} yourself?\"],\n",
    "    \"(.*) sorry (.*)\": [\"There is no need to apologize.\", \"What are you apologizing for?\"],\n",
    "    \"(.*) friend (.*)\": [\"Tell me more about your friend.\", \"How do your friends make you feel?\"],\n",
    "    \"yes\": [\"You seem quite sure.\", \"Okay, but can you elaborate.\"],\n",
    "    \"no\": [\"Why not?\", \"Okay, but can you elaborate a bit?\"],\n",
    "    \"(.*)\": [\"Please tell me more.\", \"Let's change focus a bit...tell me about your family.\", \"Can you elaborate on that?\"],\n",
    "    \"\": [\"Why do you think that?\", \"Please tell me more.\", \"Let's change focus a bit...tell me about your family\", \"Can you elaborate on that?\"]\n",
    "}\n"
   ]
  },
  {
   "cell_type": "code",
   "execution_count": 3,
   "id": "3fb52373",
   "metadata": {},
   "outputs": [],
   "source": [
    "def match_response(input_text):\n",
    "    for pattern, response_list in response.items():\n",
    "        matches = re.match(pattern, input_text.lower())\n",
    "        if matches:\n",
    "            chosen_response = random.choice(response_list)\n",
    "            return chosen_response.format(*matches.groups())\n",
    "    return \"I am sorry I don't understand what you are saying.\""
   ]
  },
  {
   "cell_type": "code",
   "execution_count": 4,
   "id": "06f02e52",
   "metadata": {},
   "outputs": [
    {
     "name": "stdout",
     "output_type": "stream",
     "text": [
      "Welcome to the Atom Psychotherapist Chatbot\n",
      "You: hello\n",
      "Atom: Hello how can I help you\n",
      "You: i feel happy\n",
      "Atom: Why do you feel happy?\n",
      "You: because im a single\n",
      "Atom: Can you elaborate on that?\n",
      "You: bye\n",
      "Atom: Goodbye...\n"
     ]
    }
   ],
   "source": [
    "print(\"Welcome to the Atom Psychotherapist Chatbot\")\n",
    "while True:\n",
    "    user_input = input(\"You: \")\n",
    "    if user_input.lower() == \"bye\":\n",
    "        print(\"Atom: Goodbye...\")\n",
    "        break\n",
    "    else:\n",
    "        print(\"Atom: \" + match_response(user_input))\n"
   ]
  },
  {
   "cell_type": "code",
   "execution_count": null,
   "id": "ff1c815d",
   "metadata": {},
   "outputs": [],
   "source": []
  }
 ],
 "metadata": {
  "kernelspec": {
   "display_name": "Python 3 (ipykernel)",
   "language": "python",
   "name": "python3"
  },
  "language_info": {
   "codemirror_mode": {
    "name": "ipython",
    "version": 3
   },
   "file_extension": ".py",
   "mimetype": "text/x-python",
   "name": "python",
   "nbconvert_exporter": "python",
   "pygments_lexer": "ipython3",
   "version": "3.11.3"
  }
 },
 "nbformat": 4,
 "nbformat_minor": 5
}
